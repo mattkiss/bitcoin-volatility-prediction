{
 "cells": [
  {
   "cell_type": "code",
   "execution_count": null,
   "metadata": {
    "collapsed": true
   },
   "outputs": [],
   "source": [
    "# Parameters\n",
    "\n",
    "numOfRendements=10      # Number of returns used to compute a proxy (there are 4221 prices in the batch)\n",
    "numOfColumnsX=3         # Number of columns of a sample (with the intercept)\n",
    "timeBetweenPrices=3     # Interval between two prices\n",
    "mu=1"
   ]
  },
  {
   "cell_type": "code",
   "execution_count": null,
   "metadata": {
    "collapsed": true
   },
   "outputs": [],
   "source": [
    "# Imports\n",
    "\n",
    "import numpy as np\n",
    "from sklearn import datasets, linear_model\n",
    "from sklearn.metrics import mean_squared_error, r2_score\n",
    "import json"
   ]
  },
  {
   "cell_type": "code",
   "execution_count": null,
   "metadata": {
    "collapsed": true
   },
   "outputs": [],
   "source": [
    "# Computation of the proxies\n",
    "\n",
    "messages = []\n",
    "with open('messages.txt') as f:\n",
    "    for line in f:\n",
    "        messages.append(json.loads(line))\n",
    "\n",
    "proxies=[]\n",
    "firstMessage=messages.pop(0)\n",
    "lastPrice=float(firstMessage['price'])\n",
    "lastTime=int(firstMessage['timestamp'])\n",
    "rendements=np.empty(0)\n",
    "while messages:\n",
    "    newMessage=messages.pop(0)\n",
    "    prices=[lastPrice, float(newMessage['price'])]\n",
    "    times=[lastTime, int(newMessage['timestamp'])]\n",
    "    interpolatedTimes=list(range(lastTime, int(newMessage['timestamp']), timeBetweenPrices))\n",
    "    interpolatedPrices=list(np.interp(interpolatedTimes, times, prices))\n",
    "    while interpolatedTimes:\n",
    "      newPrice=interpolatedPrices.pop(0)\n",
    "      rendement=np.log(newPrice/lastPrice)\n",
    "      lastPrice=newPrice\n",
    "      lastTime=interpolatedTimes.pop(0)\n",
    "      rendements=np.append(rendements, rendement)\n",
    "      if rendements.size==numOfRendements:\n",
    "        proxies.append(np.sum(np.square(rendements))/numOfRendements)\n",
    "        rendements=rendements[1:]"
   ]
  },
  {
   "cell_type": "code",
   "execution_count": null,
   "metadata": {
    "collapsed": true
   },
   "outputs": [],
   "source": [
    "# Creation of the np.arrays\n",
    "\n",
    "X=()\n",
    "Y=()\n",
    "for i in range(len(proxies)-numOfColumnsX+1): # +1 because numOfColumnsX takes the intercept into account\n",
    "     X+=(proxies[i:i+numOfColumnsX-1],)       # -1 because numOfColumnsX takes the intercept into account\n",
    "     Y+=([proxies[i+numOfColumnsX-1]],)\n",
    "\n",
    "X_train=X[:len(X)//2]\n",
    "X_test=X[len(X)//2:]\n",
    "Y_train=Y[:len(Y)//2]\n",
    "Y_test=Y[len(Y)//2:]\n",
    "\n",
    "X_train=np.array(X_train)\n",
    "X_test=np.array(X_test)     \n",
    "Y_train=np.array(Y_train)\n",
    "Y_test=np.array(Y_test) "
   ]
  },
  {
   "cell_type": "code",
   "execution_count": null,
   "metadata": {
    "collapsed": true
   },
   "outputs": [],
   "source": [
    "# Normalisation of the np.arrays\n",
    "\n",
    "X_train=(X_train-X_train.mean(0))/X_train.std(0)\n",
    "X_test=(X_test-X_test.mean(0))/X_test.std(0)    \n",
    "Y_train=(Y_train-Y_train.mean(0))/Y_train.std(0)\n",
    "Y_test=(Y_test-Y_test.mean(0))/Y_test.std(0)\n",
    "\n",
    "X_train=np.c_[np.ones(len(X_train)), X_train]  # Adding of the intercept\n",
    "X_test=np.c_[np.ones(len(X_test)), X_test]"
   ]
  },
  {
   "cell_type": "code",
   "execution_count": null,
   "metadata": {},
   "outputs": [],
   "source": [
    "# Linear regression\n",
    "\n",
    "regr = linear_model.LinearRegression(fit_intercept=False)\n",
    "regr.fit(X_train, Y_train)"
   ]
  },
  {
   "cell_type": "code",
   "execution_count": null,
   "metadata": {
    "collapsed": true
   },
   "outputs": [],
   "source": [
    "# RLS algorithm\n",
    "\n",
    "beta=np.zeros((numOfColumnsX,1))\n",
    "V=np.diag(np.zeros(numOfColumnsX)+1)    \n",
    "for i in np.arange(X_train.shape[0]):\n",
    "    x=X_train[i,:]\n",
    "    x.shape=(1,numOfColumnsX);\n",
    "    err=Y_train[i]-x.dot(beta)\n",
    "    V=1.0/mu*(V-V.dot(x.T).dot(x).dot(V)/(1.0+float(x.dot(V).dot(x.T)))) # dot = matrix multiplication\n",
    "                                                                         # .T = Transpose\n",
    "    gamma=V.dot(x.T)\n",
    "    beta=beta+gamma*err"
   ]
  },
  {
   "cell_type": "code",
   "execution_count": null,
   "metadata": {
    "collapsed": true
   },
   "outputs": [],
   "source": [
    "# Naive forecaster: last value\n",
    "\n",
    "Y_pred_last=[]\n",
    "for i in np.arange(X_test.shape[0]):\n",
    "    x=X_test[i,:]\n",
    "    Y_pred_last.append([x[-1]])\n",
    "Y_pred_last=np.array(Y_pred_last)"
   ]
  },
  {
   "cell_type": "code",
   "execution_count": null,
   "metadata": {
    "collapsed": true
   },
   "outputs": [],
   "source": [
    "# Naive forecaster: mean\n",
    "\n",
    "Y_pred_mean=[]\n",
    "for i in np.arange(X_test.shape[0]):\n",
    "    x=X_test[i,:]\n",
    "    Y_pred_mean.append([np.mean(x[1:])])\n",
    "Y_pred_mean=np.array(Y_pred_mean)\n"
   ]
  },
  {
   "cell_type": "code",
   "execution_count": null,
   "metadata": {},
   "outputs": [],
   "source": [
    "# Display parameters\n",
    "\n",
    "print \"Parameters\\n----------\"\n",
    "print numOfRendements, \"returns are used to compute a proxy\"\n",
    "print numOfColumnsX, \"is the size of a sample (with the intercept)\"\n",
    "print timeBetweenPrices, \"seconds is the interval used to linearly interpolate prices\"\n",
    "print len(proxies), \"proxies have been computed and used\"\n",
    "print len(X_train), \"is the size of the training and testing test\\n\""
   ]
  },
  {
   "cell_type": "code",
   "execution_count": null,
   "metadata": {},
   "outputs": [],
   "source": [
    "# Display coefficients\n",
    "\n",
    "print \"Coefficients\\n------------\"\n",
    "print \"Linear regression\", regr.coef_\n",
    "print \"RLS              \", beta.T, \"\\n\""
   ]
  },
  {
   "cell_type": "code",
   "execution_count": null,
   "metadata": {},
   "outputs": [],
   "source": [
    "# Linear model prediction\n",
    "\n",
    "print \"Linear regression quality\\n-------------------------\"\n",
    "Y_pred=regr.predict(X_test)\n",
    "print \"Mean squared error: %.7f\" % mean_squared_error(Y_test, Y_pred)\n",
    "print \"Normalized mean squared error (last): %.7f\" % np.divide(mean_squared_error(Y_test, Y_pred),mean_squared_error(Y_test, Y_pred_last))\n",
    "print \"Normalized mean squared error (mean): %.7f\" % np.divide(mean_squared_error(Y_test, Y_pred),mean_squared_error(Y_test, Y_pred_mean))\n",
    "print \"Coefficient of determination: %.7f\" % r2_score(Y_test, Y_pred), \"\\n\""
   ]
  },
  {
   "cell_type": "code",
   "execution_count": null,
   "metadata": {},
   "outputs": [],
   "source": [
    "# RLS algorithm prediction\n",
    "\n",
    "print \"RLS quality\\n-----------\"\n",
    "Y_pred_RLS=X_test.dot(beta)\n",
    "print \"Mean squared error: %.7f\" % mean_squared_error(Y_test, Y_pred_RLS)\n",
    "print \"Normalized mean squared error (last): %.7f\" % np.divide(mean_squared_error(Y_test, Y_pred_RLS),mean_squared_error(Y_test, Y_pred_last))\n",
    "print \"Normalized mean squared error (mean): %.7f\" % np.divide(mean_squared_error(Y_test, Y_pred_RLS),mean_squared_error(Y_test, Y_pred_mean))\n",
    "print \"Coefficient of determination: %.7f\" % r2_score(Y_test, Y_pred_RLS)"
   ]
  }
 ],
 "metadata": {
  "kernelspec": {
   "display_name": "Python 2",
   "language": "python",
   "name": "python2"
  },
  "language_info": {
   "codemirror_mode": {
    "name": "ipython",
    "version": 2
   },
   "file_extension": ".py",
   "mimetype": "text/x-python",
   "name": "python",
   "nbconvert_exporter": "python",
   "pygments_lexer": "ipython2",
   "version": "2.7.10"
  }
 },
 "nbformat": 4,
 "nbformat_minor": 2
}
