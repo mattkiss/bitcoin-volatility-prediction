{
 "cells": [
  {
   "cell_type": "code",
   "execution_count": null,
   "metadata": {},
   "outputs": [],
   "source": [
    "from __future__ import print_function\n",
    "\n",
    "import sys\n",
    "import json\n",
    "\n",
    "from satori.rtm.client import make_client, SubscriptionMode\n",
    "\n",
    "endpoint = \"wss://open-data.api.satori.com\"\n",
    "appkey = \"dC6c33Fbb5ECdAC1Ef2aB77dcBfBB0B0\"\n",
    "channel = \"cryptocurrency-market-data\"\n",
    "\n",
    "def main():\n",
    "    file = open(\"messages.txt\",\"w\") \n",
    "    with make_client(endpoint=endpoint, appkey=appkey) as client:\n",
    "        print('Connected to Satori RTM!')\n",
    "\n",
    "        class SubscriptionObserver(object):\n",
    "            def on_subscription_data(self, data):\n",
    "                for message in data['messages']:\n",
    "                    print(\"Got message:\", message)\n",
    "                    json.dump(message, file)\n",
    "                    file.write(\"\\n\")\n",
    "\n",
    "        subscription_observer = SubscriptionObserver()\n",
    "        client.subscribe(\n",
    "            channel,\n",
    "            SubscriptionMode.SIMPLE,\n",
    "            subscription_observer,\n",
    "            {'filter':'select * from `cryptocurrency-market-data` where exchange = \"Bitstamp\" and basecurrency = \"USD\" and cryptocurrency=\"BTC\"'})\n",
    "\n",
    "        try:\n",
    "            while True:\n",
    "                pass\n",
    "        except KeyboardInterrupt:\n",
    "            file.close()\n",
    "\n",
    "\n",
    "if __name__ == '__main__':\n",
    "    main()"
   ]
  }
 ],
 "metadata": {
  "kernelspec": {
   "display_name": "Python 2",
   "language": "python",
   "name": "python2"
  },
  "language_info": {
   "codemirror_mode": {
    "name": "ipython",
    "version": 2
   },
   "file_extension": ".py",
   "mimetype": "text/x-python",
   "name": "python",
   "nbconvert_exporter": "python",
   "pygments_lexer": "ipython2",
   "version": "2.7.10"
  }
 },
 "nbformat": 4,
 "nbformat_minor": 2
}
