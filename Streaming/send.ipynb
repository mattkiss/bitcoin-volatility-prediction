{
 "cells": [
  {
   "cell_type": "code",
   "execution_count": 1,
   "metadata": {
    "collapsed": true
   },
   "outputs": [],
   "source": [
    "# Parameters\n",
    "\n",
    "numOfRendements=10   # Number of returns used to compute a proxy (there are 4221 prices in the batch)\n",
    "numOfColumnsX=3      # Number of columns of a sample (with the intercept)\n",
    "timeBetweenPrices=3  # Interval between two prices"
   ]
  },
  {
   "cell_type": "code",
   "execution_count": 2,
   "metadata": {
    "collapsed": true
   },
   "outputs": [],
   "source": [
    "# Kafka and Spark setup\n",
    "\n",
    "import os\n",
    "import numpy as np\n",
    "os.environ['PYSPARK_SUBMIT_ARGS'] = '--conf spark.ui.port=4041 --packages org.apache.kafka:kafka_2.11:0.9.0.0,org.apache.kafka:kafka-clients:0.9.0.0  pyspark-shell'"
   ]
  },
  {
   "cell_type": "code",
   "execution_count": 3,
   "metadata": {
    "collapsed": true
   },
   "outputs": [],
   "source": [
    "from pyspark import SparkContext\n",
    "sc = SparkContext(\"local[1]\", \"KafkaSendStream\") \n",
    "from kafka import KafkaProducer\n",
    "import time"
   ]
  },
  {
   "cell_type": "code",
   "execution_count": null,
   "metadata": {},
   "outputs": [],
   "source": [
    "import json\n",
    "from satori.rtm.client import make_client, SubscriptionMode\n",
    "from math import log\n",
    "\n",
    "# Connection to Satori\n",
    "\n",
    "endpoint = \"wss://open-data.api.satori.com\"\n",
    "appkey = \"dC6c33Fbb5ECdAC1Ef2aB77dcBfBB0B0\"\n",
    "channel = \"cryptocurrency-market-data\"\n",
    "\n",
    "with make_client(endpoint=endpoint, appkey=appkey) as client:\n",
    "    print('Connected to Satori RTM!')\n",
    "    messagebox=[]\n",
    "\n",
    "    class SubscriptionObserver(object):\n",
    "        def on_subscription_data(self, data):\n",
    "            for message in data['messages']:\n",
    "                messagebox.append(message)\n",
    "\n",
    "    subscription_observer = SubscriptionObserver()\n",
    "    client.subscribe(\n",
    "        channel,\n",
    "        SubscriptionMode.SIMPLE,\n",
    "        subscription_observer,\n",
    "        {'filter':'select * from `cryptocurrency-market-data` where exchange = \"Bitstamp\" and basecurrency = \"USD\" and cryptocurrency=\"BTC\"'})\n",
    "        # Stream SQL filter\n",
    "    producer = KafkaProducer(bootstrap_servers='localhost:9092')\n",
    "    i=0\n",
    "    sumOfProxies=np.zeros(numOfColumnsX)\n",
    "    sumOfSquaredProxies=np.zeros(numOfColumnsX)\n",
    "    while not messagebox: # Waiting for a first price to arrive\n",
    "        time.sleep(1)\n",
    "    firstMessage=messagebox.pop()\n",
    "    firstMessage=json.dumps(firstMessage, ensure_ascii=False)\n",
    "    firstMessage=json.loads(firstMessage)\n",
    "    lastPrice=float(firstMessage['price']) # Get that first price\n",
    "    lastTime=int(firstMessage['timestamp'])\n",
    "    rendements=np.empty(0)\n",
    "    proxies=np.empty(0)\n",
    "    interpolatedTimes=[]\n",
    "    interpolatedPrices=[]\n",
    "    while True:\n",
    "        \n",
    "        # Computation of the proxies\n",
    "        \n",
    "        proxies=proxies[1:]\n",
    "        while proxies.size<numOfColumnsX: # Not -1 because because the last proxy will be used as y            \n",
    "            if messagebox and not interpolatedTimes:\n",
    "                newMessage=messagebox.pop()\n",
    "                newMessage=json.dumps(newMessage, ensure_ascii=False)\n",
    "                newMessage=json.loads(newMessage)\n",
    "                prices=[lastPrice, float(newMessage['price'])]\n",
    "                times=[lastTime, int(newMessage['timestamp'])]\n",
    "                interpolatedTimes=list(range(lastTime, int(newMessage['timestamp']), timeBetweenPrices))\n",
    "                interpolatedPrices=list(np.interp(interpolatedTimes, times, prices))\n",
    "            while interpolatedTimes and proxies.size<numOfColumnsX:\n",
    "                newPrice=interpolatedPrices.pop(0)\n",
    "                rendement=np.log(newPrice/lastPrice)\n",
    "                lastPrice=newPrice\n",
    "                lastTime=interpolatedTimes.pop(0)\n",
    "                rendements=np.append(rendements, rendement)\n",
    "                if rendements.size==numOfRendements:\n",
    "                    proxies=np.append(proxies,np.sum(np.square(rendements))/numOfRendements)\n",
    "                    rendements=rendements[1:]\n",
    "            time.sleep(1)\n",
    "        \n",
    "        # Normalisation of the proxies\n",
    "        \n",
    "        sumOfProxies+=proxies\n",
    "        sumOfSquaredProxies+=proxies**2\n",
    "        mean=sumOfProxies/(i+1)                        # Update the mean of each column\n",
    "        std=np.sqrt(sumOfSquaredProxies/(i+1)-mean**2) # Update the standard deviation of each column\n",
    "        if i!=0:\n",
    "            y=(proxies[-1]-mean[-1])/std[-1]\n",
    "            message=np.array2string(np.append([i,y], np.insert((proxies[:numOfColumnsX-1]-mean[:numOfColumnsX-1])/std[:numOfColumnsX-1],0,1)),separator=\",\") # Ajout de la colonne t_0 aux proxies \n",
    "            producer.send('volatility', message)\n",
    "            print(message)\n",
    "        i=i+1"
   ]
  }
 ],
 "metadata": {
  "kernelspec": {
   "display_name": "Python 2",
   "language": "python",
   "name": "python2"
  },
  "language_info": {
   "codemirror_mode": {
    "name": "ipython",
    "version": 2
   },
   "file_extension": ".py",
   "mimetype": "text/x-python",
   "name": "python",
   "nbconvert_exporter": "python",
   "pygments_lexer": "ipython2",
   "version": "2.7.10"
  }
 },
 "nbformat": 4,
 "nbformat_minor": 1
}
